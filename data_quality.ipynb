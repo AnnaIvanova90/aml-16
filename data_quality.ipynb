{
 "cells": [
  {
   "cell_type": "code",
   "execution_count": 1,
   "metadata": {},
   "outputs": [],
   "source": [
    "import numpy as np\n",
    "import pandas as pd\n",
    "import seaborn as sns\n",
    "\n",
    "import random\n",
    "from sklearn.linear_model import LinearRegression\n",
    "from sklearn.metrics import mean_absolute_error"
   ]
  },
  {
   "cell_type": "markdown",
   "metadata": {},
   "source": [
    "Создадим датасет по фильмам. В качестве признаков будем использовать описание фильмов, а целевой функцией будет рейтинг фильма"
   ]
  },
  {
   "cell_type": "code",
   "execution_count": 3,
   "metadata": {},
   "outputs": [
    {
     "data": {
      "text/html": [
       "<div>\n",
       "<style scoped>\n",
       "    .dataframe tbody tr th:only-of-type {\n",
       "        vertical-align: middle;\n",
       "    }\n",
       "\n",
       "    .dataframe tbody tr th {\n",
       "        vertical-align: top;\n",
       "    }\n",
       "\n",
       "    .dataframe thead th {\n",
       "        text-align: right;\n",
       "    }\n",
       "</style>\n",
       "<table border=\"1\" class=\"dataframe\">\n",
       "  <thead>\n",
       "    <tr style=\"text-align: right;\">\n",
       "      <th></th>\n",
       "      <th>year</th>\n",
       "      <th>runtime</th>\n",
       "      <th>viewers, mln</th>\n",
       "      <th>average_ticket_price, $</th>\n",
       "      <th>ratings</th>\n",
       "    </tr>\n",
       "  </thead>\n",
       "  <tbody>\n",
       "    <tr>\n",
       "      <th>0</th>\n",
       "      <td>2016</td>\n",
       "      <td>146</td>\n",
       "      <td>95</td>\n",
       "      <td>8</td>\n",
       "      <td>61</td>\n",
       "    </tr>\n",
       "    <tr>\n",
       "      <th>1</th>\n",
       "      <td>2016</td>\n",
       "      <td>118</td>\n",
       "      <td>133</td>\n",
       "      <td>9</td>\n",
       "      <td>72</td>\n",
       "    </tr>\n",
       "    <tr>\n",
       "      <th>2</th>\n",
       "      <td>2018</td>\n",
       "      <td>115</td>\n",
       "      <td>141</td>\n",
       "      <td>8</td>\n",
       "      <td>70</td>\n",
       "    </tr>\n",
       "    <tr>\n",
       "      <th>3</th>\n",
       "      <td>2016</td>\n",
       "      <td>92</td>\n",
       "      <td>99</td>\n",
       "      <td>6</td>\n",
       "      <td>43</td>\n",
       "    </tr>\n",
       "    <tr>\n",
       "      <th>4</th>\n",
       "      <td>2015</td>\n",
       "      <td>132</td>\n",
       "      <td>140</td>\n",
       "      <td>6</td>\n",
       "      <td>61</td>\n",
       "    </tr>\n",
       "  </tbody>\n",
       "</table>\n",
       "</div>"
      ],
      "text/plain": [
       "   year  runtime  viewers, mln  average_ticket_price, $  ratings\n",
       "0  2016      146            95                        8       61\n",
       "1  2016      118           133                        9       72\n",
       "2  2018      115           141                        8       70\n",
       "3  2016       92            99                        6       43\n",
       "4  2015      132           140                        6       61"
      ]
     },
     "execution_count": 3,
     "metadata": {},
     "output_type": "execute_result"
    }
   ],
   "source": [
    "n_samples = 1000\n",
    "\n",
    "year = np.random.randint(2015, 2020, n_samples) #год выпуска фильма\n",
    "runtime =  np.random.randint(90, 180, n_samples) #продолжительность фильма\n",
    "viewers = np.random.choice(200, n_samples) + 10 #количество просмотров в миллионах\n",
    "average_ticket_price = np.random.randint(5, 10, n_samples) #средняя стоимость просмотра в кинотеатре\n",
    "\n",
    "box_office = viewers * average_ticket_price # пусть рейтинг зависит не от стоимости билета напрямую, а от суммарной прибыли за фильм\n",
    "\n",
    "ratings = runtime // 5 + box_office // 25 + random.randint(-3,3) #пусть рейтинг фильма определяется по формуле, причем от года выпуска оценка зависеть не будет\n",
    "\n",
    "data = pd.DataFrame({'year': year,'runtime': runtime,'viewers, mln': viewers, 'average_ticket_price, $': average_ticket_price, 'ratings':ratings})\n",
    "data.head(5)"
   ]
  },
  {
   "cell_type": "markdown",
   "metadata": {},
   "source": [
    "Попробуем построить модель на основе всех признаков"
   ]
  },
  {
   "cell_type": "code",
   "execution_count": 5,
   "metadata": {},
   "outputs": [
    {
     "name": "stdout",
     "output_type": "stream",
     "text": [
      "Weights: [-0.07430835  0.19469335  0.27784987  4.24786801]\n",
      "Bias: 122.27265824835075\n",
      "Error: 2.513623669457259\n"
     ]
    }
   ],
   "source": [
    "X = data[['year', 'runtime', 'viewers, mln',  'average_ticket_price, $']]\n",
    "y = data['ratings']\n",
    "\n",
    "reg = LinearRegression().fit(X, y)\n",
    "print('Weights: {}'.format(reg.coef_))\n",
    "print('Bias: {}'.format(reg.intercept_))\n",
    "pred_values = reg.predict(data[['year', 'runtime', 'viewers, mln',  'average_ticket_price, $']])\n",
    "print('Error: {}'.format(mean_absolute_error(pred_values, y)))"
   ]
  },
  {
   "cell_type": "markdown",
   "metadata": {},
   "source": [
    "Введем новый признак Box-office и заменим им в модели признаки средней стоимости и количества зрителей."
   ]
  },
  {
   "cell_type": "code",
   "execution_count": 6,
   "metadata": {},
   "outputs": [
    {
     "data": {
      "text/html": [
       "<div>\n",
       "<style scoped>\n",
       "    .dataframe tbody tr th:only-of-type {\n",
       "        vertical-align: middle;\n",
       "    }\n",
       "\n",
       "    .dataframe tbody tr th {\n",
       "        vertical-align: top;\n",
       "    }\n",
       "\n",
       "    .dataframe thead th {\n",
       "        text-align: right;\n",
       "    }\n",
       "</style>\n",
       "<table border=\"1\" class=\"dataframe\">\n",
       "  <thead>\n",
       "    <tr style=\"text-align: right;\">\n",
       "      <th></th>\n",
       "      <th>year</th>\n",
       "      <th>runtime</th>\n",
       "      <th>viewers, mln</th>\n",
       "      <th>average_ticket_price, $</th>\n",
       "      <th>ratings</th>\n",
       "      <th>box_office</th>\n",
       "    </tr>\n",
       "  </thead>\n",
       "  <tbody>\n",
       "    <tr>\n",
       "      <th>0</th>\n",
       "      <td>2016</td>\n",
       "      <td>146</td>\n",
       "      <td>95</td>\n",
       "      <td>8</td>\n",
       "      <td>61</td>\n",
       "      <td>760</td>\n",
       "    </tr>\n",
       "    <tr>\n",
       "      <th>1</th>\n",
       "      <td>2016</td>\n",
       "      <td>118</td>\n",
       "      <td>133</td>\n",
       "      <td>9</td>\n",
       "      <td>72</td>\n",
       "      <td>1197</td>\n",
       "    </tr>\n",
       "    <tr>\n",
       "      <th>2</th>\n",
       "      <td>2018</td>\n",
       "      <td>115</td>\n",
       "      <td>141</td>\n",
       "      <td>8</td>\n",
       "      <td>70</td>\n",
       "      <td>1128</td>\n",
       "    </tr>\n",
       "    <tr>\n",
       "      <th>3</th>\n",
       "      <td>2016</td>\n",
       "      <td>92</td>\n",
       "      <td>99</td>\n",
       "      <td>6</td>\n",
       "      <td>43</td>\n",
       "      <td>594</td>\n",
       "    </tr>\n",
       "    <tr>\n",
       "      <th>4</th>\n",
       "      <td>2015</td>\n",
       "      <td>132</td>\n",
       "      <td>140</td>\n",
       "      <td>6</td>\n",
       "      <td>61</td>\n",
       "      <td>840</td>\n",
       "    </tr>\n",
       "  </tbody>\n",
       "</table>\n",
       "</div>"
      ],
      "text/plain": [
       "   year  runtime  viewers, mln  average_ticket_price, $  ratings  box_office\n",
       "0  2016      146            95                        8       61         760\n",
       "1  2016      118           133                        9       72        1197\n",
       "2  2018      115           141                        8       70        1128\n",
       "3  2016       92            99                        6       43         594\n",
       "4  2015      132           140                        6       61         840"
      ]
     },
     "execution_count": 6,
     "metadata": {},
     "output_type": "execute_result"
    }
   ],
   "source": [
    "data['box_office'] = data['viewers, mln'] * data['average_ticket_price, $']\n",
    "data.head(5)"
   ]
  },
  {
   "cell_type": "code",
   "execution_count": 7,
   "metadata": {},
   "outputs": [
    {
     "name": "stdout",
     "output_type": "stream",
     "text": [
      "Weights: [-2.45852884e-05  1.99801701e-01  3.99858590e-02]\n",
      "Bias: 1.1946646525032207\n",
      "Error: 0.31843708212324506\n"
     ]
    }
   ],
   "source": [
    "X = data[['year', 'runtime', 'box_office']]\n",
    "y = data['ratings']\n",
    "\n",
    "reg = LinearRegression().fit(X, y)\n",
    "print('Weights: {}'.format(reg.coef_))\n",
    "print('Bias: {}'.format(reg.intercept_))\n",
    "pred_values = reg.predict(data[['year', 'runtime', 'box_office']])\n",
    "print('Error: {}'.format(mean_absolute_error(pred_values, y)))"
   ]
  },
  {
   "cell_type": "markdown",
   "metadata": {},
   "source": [
    "Отбросим первый признак с наименьшим весом"
   ]
  },
  {
   "cell_type": "code",
   "execution_count": 8,
   "metadata": {},
   "outputs": [
    {
     "name": "stdout",
     "output_type": "stream",
     "text": [
      "Weights: [0.19980162 0.03998585]\n",
      "Bias: 1.1450925586722036\n",
      "Error: 0.3184366180124599\n"
     ]
    }
   ],
   "source": [
    "X = data[['runtime', 'box_office']]\n",
    "y = data['ratings']\n",
    "reg = LinearRegression().fit(X, y)\n",
    "\n",
    "print('Weights: {}'.format(reg.coef_))\n",
    "print('Bias: {}'.format(reg.intercept_))\n",
    "pred_values = reg.predict(data[['runtime', 'box_office']])\n",
    "print('Error: {}'.format(mean_absolute_error(pred_values, y)))"
   ]
  }
 ],
 "metadata": {
  "kernelspec": {
   "display_name": "Python 3",
   "language": "python",
   "name": "python3"
  },
  "language_info": {
   "codemirror_mode": {
    "name": "ipython",
    "version": 3
   },
   "file_extension": ".py",
   "mimetype": "text/x-python",
   "name": "python",
   "nbconvert_exporter": "python",
   "pygments_lexer": "ipython3",
   "version": "3.8.3"
  }
 },
 "nbformat": 4,
 "nbformat_minor": 4
}
