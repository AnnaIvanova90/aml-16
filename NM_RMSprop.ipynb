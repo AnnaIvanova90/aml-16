{
 "cells": [
  {
   "cell_type": "code",
   "execution_count": 7,
   "metadata": {},
   "outputs": [],
   "source": [
    "import numpy as np\n",
    "from sklearn.model_selection import train_test_split\n",
    "from sklearn.metrics import accuracy_score\n",
    "import matplotlib.pyplot as plt\n",
    "from math import ceil, floor"
   ]
  },
  {
   "cell_type": "code",
   "execution_count": 27,
   "metadata": {},
   "outputs": [
    {
     "data": {
      "image/png": "[encoded data removed]",
      "text/plain": [
       "<Figure size 432x288 with 1 Axes>"
      ]
     },
     "metadata": {
      "needs_background": "light"
     },
     "output_type": "display_data"
    }
   ],
   "source": [
    "N = 100\n",
    "X = np.random.uniform(low=0, high=100, size=N)\n",
    "Y = 2*X + 1 + np.random.normal(scale=5, size=N)\n",
    "\n",
    "plt.scatter(X, Y)\n",
    "plt.show()"
   ]
  },
  {
   "cell_type": "code",
   "execution_count": 43,
   "metadata": {},
   "outputs": [],
   "source": [
    "EPOCHS = 20\n",
    "LEARNING_RATE = 0.0001\n",
    "gamma = 0.75"
   ]
  },
  {
   "cell_type": "code",
   "execution_count": 44,
   "metadata": {},
   "outputs": [],
   "source": [
    "def cost_function(X, y, theta0, theta1):\n",
    "    total_cost = 0\n",
    "    for i in range(len(X)):\n",
    "        total_cost += (theta0 + theta1*X[i] - y[i]) ** 2\n",
    "    return total_cost / (2 * len(X))"
   ]
  },
  {
   "cell_type": "code",
   "execution_count": 45,
   "metadata": {},
   "outputs": [],
   "source": [
    "def der_theta0(X, y, theta0, theta1):\n",
    "    total_cost = 0\n",
    "    for i in range(len(X)):\n",
    "        total_cost += (theta0 + theta1*X[i] - y[i])\n",
    "    return total_cost / (len(X))    "
   ]
  },
  {
   "cell_type": "code",
   "execution_count": 46,
   "metadata": {},
   "outputs": [],
   "source": [
    "def der_theta1(X, y, theta0, theta1):\n",
    "    total_cost = 0\n",
    "    for i in range(len(X)):\n",
    "        total_cost += (theta0 + theta1*X[i] - y[i]) * X[i]\n",
    "    return total_cost / (len(X))  "
   ]
  },
  {
   "cell_type": "code",
   "execution_count": 47,
   "metadata": {},
   "outputs": [
    {
     "name": "stdout",
     "output_type": "stream",
     "text": [
      "t0: 1.0050426292352146 t1: 1.3302566842360009 cost: 758.4287349124052\n",
      "t0: 1.012219276787528 t1: 1.7991775050833545 cost: 83.84216936223402\n",
      "t0: 1.0186565601878872 t1: 2.2172904670846925 cost: 94.6875607290478\n",
      "t0: 1.0224529659674926 t1: 2.4592647038955775 cost: 364.67791914992375\n",
      "t0: 1.02306127187736 t1: 2.4892508941892535 cost: 411.60375968484243\n",
      "t0: 1.0211288592238923 t1: 2.350345891125584 cost: 219.22725403493058\n",
      "t0: 1.0179840133037752 t1: 2.130628571528663 cost: 45.0186014362398\n",
      "t0: 1.01502619273476 t1: 1.9228367363846823 cost: 26.9279535905171\n",
      "t0: 1.0132454838028206 t1: 1.7925867249943814 cost: 88.2804443769648\n",
      "t0: 1.0129975246048744 t1: 1.763491770643908 cost: 109.6374626664667\n",
      "t0: 1.0140442895007624 t1: 1.8198673121633155 cost: 70.78858148150239\n",
      "t0: 1.0157807695679293 t1: 1.9217334144617733 cost: 27.20900153143352\n",
      "t0: 1.0175262144561763 t1: 2.0240872501226836 cost: 17.93384610708564\n",
      "t0: 1.0187676275018414 t1: 2.0930156745087127 cost: 31.181535798037906\n",
      "t0: 1.0192870506184912 t1: 2.114118603198599 cost: 38.375247334025424\n",
      "t0: 1.0191596596945016 t1: 2.092384669407015 cost: 30.9907485218749\n",
      "t0: 1.0186555883306228 t1: 2.045697140915456 cost: 20.400045382141847\n",
      "t0: 1.0181019526732398 t1: 1.9957064328878524 cost: 17.038482249322975\n",
      "t0: 1.0177605723383902 t1: 1.9597408383860901 cost: 19.723375694726986\n",
      "t0: 1.01775782806779 t1: 1.9461664445989149 cost: 21.846413936058553\n"
     ]
    }
   ],
   "source": [
    "theta0 = 1\n",
    "theta1 = 1\n",
    "vt0  = 0\n",
    "vt1 = 0\n",
    "for it in range(EPOCHS):\n",
    "    dt0 = der_theta0(X, Y, theta0, theta1)\n",
    "    dt1 = der_theta1(X, Y, theta0, theta1)\n",
    "    \n",
    "    vt0 = gamma * vt0 + LEARNING_RATE * dt0\n",
    "    vt1 = gamma * vt1 + LEARNING_RATE * dt1\n",
    "    \n",
    "    theta0 = theta0 - vt0\n",
    "    theta1 = theta1 - vt1\n",
    "    \n",
    "    print(\"t0:\", theta0, \"t1:\", theta1, \"cost:\", cost_function(X, Y, theta0, theta1))"
   ]
  },
  {
   "cell_type": "code",
   "execution_count": 62,
   "metadata": {},
   "outputs": [
    {
     "name": "stdout",
     "output_type": "stream",
     "text": [
      "t0: 1.0001999999999842 t1: 1.0002 cost: 1668.6289594773793\n",
      "t0: 1.0003511727105372 t1: 1.00035117264027 cost: 1668.1222203519799\n",
      "t0: 1.0004826740520427 t1: 1.0004826738858448 cost: 1667.6814840545185\n",
      "t0: 1.0006036020872966 t1: 1.0006036018103852 cost: 1667.2762369492268\n",
      "t0: 1.0007180845838533 t1: 1.0007180841859469 cost: 1666.8926356509128\n",
      "t0: 1.0008283562826297 t1: 1.0008283557559028 cost: 1666.523185838892\n",
      "t0: 1.0009357577289826 t1: 1.0009357570672006 cost: 1666.163392194153\n",
      "t0: 1.0010411475390242 t1: 1.0010411467371052 cost: 1665.8103756727357\n",
      "t0: 1.0011451005136538 t1: 1.0011450995674094 cost: 1665.4622090431199\n",
      "t0: 1.0012480135042752 t1: 1.0012480124102385 cost: 1665.117561823117\n",
      "t0: 1.0013501665919218 t1: 1.001350165347222 cost: 1664.7754950949677\n",
      "t0: 1.0014517606132873 t1: 1.001451759215551 cost: 1664.4353356525157\n",
      "t0: 1.0015529412638573 t1: 1.0015529397111265 cost: 1664.0965951684027\n",
      "t0: 1.0016538151443939 t1: 1.0016538134350592 cost: 1663.7589163826963\n",
      "t0: 1.0017544607457798 t1: 1.0017544588785223 cost: 1663.422036267668\n",
      "t0: 1.00185493613316 t1: 1.0018549341069019 cost: 1663.0857602623912\n",
      "t0: 1.001955284411596 t1: 1.0019552822254592 cost: 1662.7499439473893\n",
      "t0: 1.0020555376638667 t1: 1.0020555353171372 cost: 1662.4144798429352\n",
      "t0: 1.0021557198154358 t1: 1.002155717307534 cost: 1662.0792878048917\n",
      "t0: 1.0022558487344833 t1: 1.0022558460649382 cost: 1661.7443079854268\n"
     ]
    }
   ],
   "source": [
    "theta0 = 1\n",
    "theta1 = 1\n",
    "e = 0.0000001\n",
    "E0 = 0\n",
    "E1 = 0\n",
    "for it in range(EPOCHS):\n",
    "    \n",
    "    dt0 = der_theta0(X, Y, theta0, theta1)\n",
    "    dt1 = der_theta1(X, Y, theta0, theta1)\n",
    "    \n",
    "    E0 = E0 * gamma + (1 - gamma) * dt0**2\n",
    "    E1 = E1 * gamma + (1 - gamma) * dt1**2\n",
    "    \n",
    "\n",
    "    theta0 = theta0 - dt0 * LEARNING_RATE / np.sqrt(E0 + e) \n",
    "    theta1 = theta1 - dt1 *LEARNING_RATE / np.sqrt(E1 + e)\n",
    "   \n",
    "    \n",
    "    print(\"t0:\", theta0, \"t1:\", theta1, \"cost:\", cost_function(X, Y, theta0, theta1))"
   ]
  },
  {
   "cell_type": "code",
   "execution_count": null,
   "metadata": {},
   "outputs": [],
   "source": []
  }
 ],
 "metadata": {
  "kernelspec": {
   "display_name": "Python 3",
   "language": "python",
   "name": "python3"
  },
  "language_info": {
   "codemirror_mode": {
    "name": "ipython",
    "version": 3
   },
   "file_extension": ".py",
   "mimetype": "text/x-python",
   "name": "python",
   "nbconvert_exporter": "python",
   "pygments_lexer": "ipython3",
   "version": "3.8.3"
  }
 },
 "nbformat": 4,
 "nbformat_minor": 4
}
